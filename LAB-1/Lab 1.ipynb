{
 "cells": [
  {
   "cell_type": "markdown",
   "id": "f26030e8-3e3d-4bcc-bbf3-27d431de555b",
   "metadata": {},
   "source": [
    "## Importing packages:"
   ]
  },
  {
   "cell_type": "code",
   "execution_count": 1,
   "id": "139b19cb-56b6-4ea3-8e41-694b19d42123",
   "metadata": {},
   "outputs": [],
   "source": [
    "import pandas as pd\n",
    "import matplotlib.pyplot as plt\n",
    "import seaborn as sns\n",
    "import statsmodels.api as sm"
   ]
  },
  {
   "cell_type": "markdown",
   "id": "0778e807-132c-4754-b686-e4a399c1d589",
   "metadata": {},
   "source": [
    "## Loading the dataset:"
   ]
  },
  {
   "cell_type": "code",
   "execution_count": 2,
   "id": "bb54c9a6-78a4-4a75-96c6-40e8df1a0a30",
   "metadata": {},
   "outputs": [
    {
     "data": {
      "text/html": [
       "<div>\n",
       "<style scoped>\n",
       "    .dataframe tbody tr th:only-of-type {\n",
       "        vertical-align: middle;\n",
       "    }\n",
       "\n",
       "    .dataframe tbody tr th {\n",
       "        vertical-align: top;\n",
       "    }\n",
       "\n",
       "    .dataframe thead th {\n",
       "        text-align: right;\n",
       "    }\n",
       "</style>\n",
       "<table border=\"1\" class=\"dataframe\">\n",
       "  <thead>\n",
       "    <tr style=\"text-align: right;\">\n",
       "      <th></th>\n",
       "      <th>Year</th>\n",
       "      <th>Y</th>\n",
       "      <th>X</th>\n",
       "    </tr>\n",
       "  </thead>\n",
       "  <tbody>\n",
       "    <tr>\n",
       "      <th>0</th>\n",
       "      <td>1982</td>\n",
       "      <td>3081.5</td>\n",
       "      <td>4620.3</td>\n",
       "    </tr>\n",
       "    <tr>\n",
       "      <th>1</th>\n",
       "      <td>1983</td>\n",
       "      <td>3240.6</td>\n",
       "      <td>4803.7</td>\n",
       "    </tr>\n",
       "    <tr>\n",
       "      <th>2</th>\n",
       "      <td>1984</td>\n",
       "      <td>3407.6</td>\n",
       "      <td>5140.1</td>\n",
       "    </tr>\n",
       "    <tr>\n",
       "      <th>3</th>\n",
       "      <td>1985</td>\n",
       "      <td>3566.5</td>\n",
       "      <td>5323.5</td>\n",
       "    </tr>\n",
       "    <tr>\n",
       "      <th>4</th>\n",
       "      <td>1986</td>\n",
       "      <td>3708.7</td>\n",
       "      <td>5487.7</td>\n",
       "    </tr>\n",
       "  </tbody>\n",
       "</table>\n",
       "</div>"
      ],
      "text/plain": [
       "   Year       Y       X\n",
       "0  1982  3081.5  4620.3\n",
       "1  1983  3240.6  4803.7\n",
       "2  1984  3407.6  5140.1\n",
       "3  1985  3566.5  5323.5\n",
       "4  1986  3708.7  5487.7"
      ]
     },
     "execution_count": 2,
     "metadata": {},
     "output_type": "execute_result"
    }
   ],
   "source": [
    "df = pd.read_csv(\"G:/5th trimester/Econometrics-code/Labs/LAB-1/Regression Analysis Data - Sheet1.csv\")\n",
    "df.head()"
   ]
  },
  {
   "cell_type": "markdown",
   "id": "13584cdc-27fb-4ef5-bd27-37e4fe053f3f",
   "metadata": {},
   "source": [
    "## Descriptive Statitics:"
   ]
  },
  {
   "cell_type": "code",
   "execution_count": 3,
   "id": "d34d6fd8-52ed-4375-9872-62c86b35286b",
   "metadata": {},
   "outputs": [
    {
     "data": {
      "text/html": [
       "<div>\n",
       "<style scoped>\n",
       "    .dataframe tbody tr th:only-of-type {\n",
       "        vertical-align: middle;\n",
       "    }\n",
       "\n",
       "    .dataframe tbody tr th {\n",
       "        vertical-align: top;\n",
       "    }\n",
       "\n",
       "    .dataframe thead th {\n",
       "        text-align: right;\n",
       "    }\n",
       "</style>\n",
       "<table border=\"1\" class=\"dataframe\">\n",
       "  <thead>\n",
       "    <tr style=\"text-align: right;\">\n",
       "      <th></th>\n",
       "      <th>Y</th>\n",
       "      <th>X</th>\n",
       "    </tr>\n",
       "  </thead>\n",
       "  <tbody>\n",
       "    <tr>\n",
       "      <th>count</th>\n",
       "      <td>15.000000</td>\n",
       "      <td>15.000000</td>\n",
       "    </tr>\n",
       "    <tr>\n",
       "      <th>mean</th>\n",
       "      <td>3964.086667</td>\n",
       "      <td>5872.193333</td>\n",
       "    </tr>\n",
       "    <tr>\n",
       "      <th>std</th>\n",
       "      <td>489.661393</td>\n",
       "      <td>692.618195</td>\n",
       "    </tr>\n",
       "    <tr>\n",
       "      <th>min</th>\n",
       "      <td>3081.500000</td>\n",
       "      <td>4620.300000</td>\n",
       "    </tr>\n",
       "    <tr>\n",
       "      <th>25%</th>\n",
       "      <td>3637.600000</td>\n",
       "      <td>5405.600000</td>\n",
       "    </tr>\n",
       "    <tr>\n",
       "      <th>50%</th>\n",
       "      <td>4064.600000</td>\n",
       "      <td>6062.000000</td>\n",
       "    </tr>\n",
       "    <tr>\n",
       "      <th>75%</th>\n",
       "      <td>4281.700000</td>\n",
       "      <td>6317.000000</td>\n",
       "    </tr>\n",
       "    <tr>\n",
       "      <th>max</th>\n",
       "      <td>4714.100000</td>\n",
       "      <td>6928.400000</td>\n",
       "    </tr>\n",
       "  </tbody>\n",
       "</table>\n",
       "</div>"
      ],
      "text/plain": [
       "                 Y            X\n",
       "count    15.000000    15.000000\n",
       "mean   3964.086667  5872.193333\n",
       "std     489.661393   692.618195\n",
       "min    3081.500000  4620.300000\n",
       "25%    3637.600000  5405.600000\n",
       "50%    4064.600000  6062.000000\n",
       "75%    4281.700000  6317.000000\n",
       "max    4714.100000  6928.400000"
      ]
     },
     "execution_count": 3,
     "metadata": {},
     "output_type": "execute_result"
    }
   ],
   "source": [
    "df[['Y', 'X']].describe()"
   ]
  },
  {
   "cell_type": "markdown",
   "id": "ae28c74e-a600-4834-9c11-a4a38f4e4b12",
   "metadata": {},
   "source": [
    "## Correlation:"
   ]
  },
  {
   "cell_type": "code",
   "execution_count": 4,
   "id": "ec77c6de-5acd-4f3b-8fc6-cc39ae662d98",
   "metadata": {},
   "outputs": [
    {
     "name": "stdout",
     "output_type": "stream",
     "text": [
      "Correlation between Y and X: 0.9992\n",
      "\n"
     ]
    }
   ],
   "source": [
    "correlation = df['Y'].corr(df['X'])\n",
    "print(f\"Correlation between Y and X: {correlation:.4f}\\n\")"
   ]
  },
  {
   "cell_type": "markdown",
   "id": "d27a9e50-6eca-4749-86e0-519c79ce944c",
   "metadata": {},
   "source": [
    "## Covariance:"
   ]
  },
  {
   "cell_type": "code",
   "execution_count": 5,
   "id": "d4cc930c-3137-437d-b285-2bc63b57da07",
   "metadata": {},
   "outputs": [
    {
     "name": "stdout",
     "output_type": "stream",
     "text": [
      "               Y              X\n",
      "Y  239768.279810  338878.045619\n",
      "X  338878.045619  479719.963524\n"
     ]
    }
   ],
   "source": [
    "covariance_matrix = df[['Y', 'X']].cov()\n",
    "print(covariance_matrix)"
   ]
  },
  {
   "cell_type": "markdown",
   "id": "543a5024-ad8f-496b-9c88-43dc53a5ffd1",
   "metadata": {},
   "source": [
    "## Regression analysis:"
   ]
  },
  {
   "cell_type": "code",
   "execution_count": 8,
   "id": "cb8999d5-ff3f-47af-b1bd-efe5875bb34a",
   "metadata": {},
   "outputs": [
    {
     "name": "stdout",
     "output_type": "stream",
     "text": [
      "                            OLS Regression Results                            \n",
      "==============================================================================\n",
      "Dep. Variable:                      Y   R-squared:                       0.998\n",
      "Model:                            OLS   Adj. R-squared:                  0.998\n",
      "Method:                 Least Squares   F-statistic:                     8145.\n",
      "Date:                Tue, 30 Sep 2025   Prob (F-statistic):           1.42e-19\n",
      "Time:                        18:50:43   Log-Likelihood:                -65.359\n",
      "No. Observations:                  15   AIC:                             134.7\n",
      "Df Residuals:                      13   BIC:                             136.1\n",
      "Df Model:                           1                                         \n",
      "Covariance Type:            nonrobust                                         \n",
      "==============================================================================\n",
      "                 coef    std err          t      P>|t|      [0.025      0.975]\n",
      "------------------------------------------------------------------------------\n",
      "const       -184.0780     46.262     -3.979      0.002    -284.021     -84.135\n",
      "X              0.7064      0.008     90.247      0.000       0.689       0.723\n",
      "==============================================================================\n",
      "Omnibus:                        1.347   Durbin-Watson:                   2.082\n",
      "Prob(Omnibus):                  0.510   Jarque-Bera (JB):                0.900\n",
      "Skew:                          -0.572   Prob(JB):                        0.638\n",
      "Kurtosis:                       2.637   Cond. No.                     5.22e+04\n",
      "==============================================================================\n",
      "\n",
      "Notes:\n",
      "[1] Standard Errors assume that the covariance matrix of the errors is correctly specified.\n",
      "[2] The condition number is large, 5.22e+04. This might indicate that there are\n",
      "strong multicollinearity or other numerical problems.\n"
     ]
    }
   ],
   "source": [
    "import warnings\n",
    "warnings.filterwarnings(\"ignore\")\n",
    "\n",
    "# Defining dependent (y) and independent (X) variables\n",
    "y = df['Y']\n",
    "X = df['X']\n",
    "\n",
    "# Adding a constant (intercept) to the independent variable\n",
    "X_with_const = sm.add_constant(X)\n",
    "\n",
    "# Creating and fitting the Ordinary Least Squares (OLS) model\n",
    "model = sm.OLS(y, X_with_const)\n",
    "results = model.fit()\n",
    "print(results.summary())"
   ]
  },
  {
   "cell_type": "markdown",
   "id": "9355ac1a-78e1-4793-8720-1153b2f794d5",
   "metadata": {},
   "source": [
    "## Visualization:"
   ]
  },
  {
   "cell_type": "code",
   "execution_count": 7,
   "id": "8d3cf421-b517-427b-b784-bce1f669cf87",
   "metadata": {},
   "outputs": [
    {
     "data": {
      "image/png": "[encoded data removed]",
      "text/plain": [
       "<Figure size 1000x600 with 1 Axes>"
      ]
     },
     "metadata": {},
     "output_type": "display_data"
    }
   ],
   "source": [
    "plt.figure(figsize=(10, 6))\n",
    "sns.regplot(x='X', y='Y', data=df)\n",
    "plt.title('Scatter Plot of Y vs. X with Regression Line')\n",
    "plt.xlabel('X (Independent Variable)')\n",
    "plt.ylabel('Y (Dependent Variable)')\n",
    "plt.grid(True)\n",
    "plt.savefig('scatter_plot_from_csv.png')"
   ]
  },
  {
   "cell_type": "code",
   "execution_count": 9,
   "id": "bb3bbf4d-dc62-4f27-99e5-2fc4c6ffa9ed",
   "metadata": {},
   "outputs": [
    {
     "name": "stdout",
     "output_type": "stream",
     "text": [
      "\n",
      "Final DataFrame saved successfully as 'final_analysis_data.pkl'\n"
     ]
    }
   ],
   "source": [
    "df.to_pickle('final_analysis_data.pkl')\n",
    "print(\"\\nFinal DataFrame saved successfully as 'final_analysis_data.pkl'\")"
   ]
  }
 ],
 "metadata": {
  "kernelspec": {
   "display_name": "Python 3 (ipykernel)",
   "language": "python",
   "name": "python3"
  },
  "language_info": {
   "codemirror_mode": {
    "name": "ipython",
    "version": 3
   },
   "file_extension": ".py",
   "mimetype": "text/x-python",
   "name": "python",
   "nbconvert_exporter": "python",
   "pygments_lexer": "ipython3",
   "version": "3.12.5"
  }
 },
 "nbformat": 4,
 "nbformat_minor": 5
}
